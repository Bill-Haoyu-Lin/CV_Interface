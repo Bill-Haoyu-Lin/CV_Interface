{
 "cells": [
  {
   "cell_type": "code",
   "execution_count": null,
   "id": "c24e22e5",
   "metadata": {},
   "outputs": [],
   "source": [
    "for i in range(20):\n",
    "    ser.write(b'hello world')"
   ]
  },
  {
   "cell_type": "code",
   "execution_count": null,
   "id": "41f13eb4",
   "metadata": {},
   "outputs": [],
   "source": [
    "ser.write(b'hello world')"
   ]
  },
  {
   "cell_type": "markdown",
   "id": "fbb76f7b",
   "metadata": {},
   "source": [
    "# Setup"
   ]
  },
  {
   "cell_type": "code",
   "execution_count": null,
   "id": "2279f60e",
   "metadata": {},
   "outputs": [],
   "source": [
    "import time\n",
    "import serial\n",
    "ser = serial.Serial(port='/dev/serial0',baudrate=9600,parity=serial.PARITY_NONE,stopbits=serial.STOPBITS_ONE,bytesize=serial.EIGHTBITS,timeout=1)"
   ]
  },
  {
   "cell_type": "code",
   "execution_count": null,
   "id": "cab1299c",
   "metadata": {},
   "outputs": [],
   "source": [
    "from enum import Enum\n",
    "\n",
    "VERBOSITY_QUIET = 0\n",
    "VERBOSITY_DEBUG = 1\n",
    "Global_Verbosity = VERBOSITY_QUIET\n",
    "\n",
    "\n",
    "def set_Verbosity(verbosity):\n",
    "    Global_Verbosity = verbosity\n",
    "\n",
    "\n",
    "def printLog(str, verbosity):\n",
    "    if verbosity <= Global_Verbosity:\n",
    "        print(str)\n",
    "\n",
    "class eMsgType(Enum):\n",
    "    MODE_CONTROL = 0x10\n",
    "    COORDINATE = 0x20\n",
    "    ACK_BIT = 0x40\n",
    "\n",
    "\n",
    "class eSepChar(Enum):\n",
    "    STX_CHAR = 0x02\n",
    "    ETX_CHAR = 0x03\n",
    "    ACK_ASCII = b'ACK'\n",
    "\n",
    "\n",
    "class eAutoAimState(Enum):\n",
    "    AUTO_AIM_INIT = 0\n",
    "    AUTO_AIM_IDLE = 1\n",
    "    AUTO_AIM_SEND_COORDINATE = 2\n",
    "    AUTO_AIM_WAIT_FOR_ACK = 3\n",
    "    AUTO_AIM_SLEEP = 4\n",
    "\n",
    "class eReaderState(Enum):\n",
    "    READ_STX = 0\n",
    "    READ_PAYLOAD = 1\n",
    "    READ_ERROR = 2\n"
   ]
  },
  {
   "cell_type": "code",
   "execution_count": null,
   "id": "11ef08ba",
   "metadata": {},
   "outputs": [],
   "source": [
    "def AutoAim_Heartbeat(x,y,verbosity):\n",
    "\t# setup static variable\n",
    "\ttry:\n",
    "\t\tprintLog(AutoAim_Heartbeat.Heartbeat_State,VERBOSITY_DEBUG)\n",
    "\t\tprintLog(AutoAim_Heartbeat.Reader_State,VERBOSITY_DEBUG)\n",
    "\texcept:\n",
    "\t\t# main state\n",
    "\t\tAutoAim_Heartbeat.Heartbeat_State = eAutoAimState.AUTO_AIM_INIT\n",
    "\t\t# sub state\n",
    "\t\tAutoAim_Heartbeat.Reader_State = eReaderState.READ_STX\n",
    "\t\n",
    "\tif AutoAim_Heartbeat.Heartbeat_State == eAutoAimState.AUTO_AIM_INIT:\n",
    "\t\t# ser.reset_input_buffer()\n",
    "\t\t# ser.reset_output_buffer()\n",
    "\telif AutoAim_Heartbeat.Heartbeat_State == eAutoAimState.AUTO_AIM_IDLE:\n",
    "\t\t# polling for control msg, if auto aim mode start msg received, ACK back\n",
    "\t\tif ser.inWaiting()>0:\n",
    "\t\t\tif AutoAim_Heartbeat.Reader_State == eReaderState.READ_STX:\n",
    "\t\t\t\tif ser.read(1) == eSepChar.STX_CHAR.value:\n",
    "\t\t\t\t\tAutoAim_Heartbeat.Reader_State = eReaderState.READ_PAYLOAD\t\n",
    "\t\t\telif AutoAim_Heartbeat.Reader_State == eReaderState.READ_PAYLOAD:\n",
    "\t\t\t\tif ser.read(1) == eMsgType.MODE_CONTROL.value:\n",
    "\t\t\t\telse:\n",
    "\t\t\t\t\tAutoAim_Heartbeat.Reader_State = eReaderState.READ_ERROR\n",
    "\t\t\telse:\n",
    "\t\t\t\tprintLog(\"Unexpected AutoAim API state!\")\n",
    "\t\t\t\traise RuntimeError\n",
    "\t\tcc = ser.read(ser.inWaiting())\n",
    "\t\tprint(cc.decode())\n",
    "\t\tprint(cc)\n",
    "\telif AutoAim_Heartbeat.Heartbeat_State == eAutoAimState.AUTO_AIM_IDLE:\n",
    "\telif AutoAim_Heartbeat.Heartbeat_State == eAutoAimState.AUTO_AIM_SEND_COORDINATE:\n",
    "\telif AutoAim_Heartbeat.Heartbeat_State == eAutoAimState.AUTO_AIM_WAIT_FOR_ACK:\n",
    "\telif AutoAim_Heartbeat.Heartbeat_State == eAutoAimState.AUTO_AIM_SLEEP:\n",
    "\telse:\n",
    "\t\tprintLog(\"Unexpected AutoAim API state!\")\n",
    "\t\traise RuntimeError\n",
    "\n",
    "\n",
    "\t# CV should turn off if state is not active to save battery\n",
    "\tfCvActive = not (AutoAim_Heartbeat.Heartbeat_State in (eAutoAimState.AUTO_AIM_IDLE,eAutoAimState.AUTO_AIM_SLEEP))\n",
    "\treturn fCvActive"
   ]
  },
  {
   "cell_type": "code",
   "execution_count": null,
   "id": "ae959905",
   "metadata": {},
   "outputs": [],
   "source": [
    "bytes(0x02).decode()"
   ]
  },
  {
   "cell_type": "markdown",
   "id": "5f1a0bd9",
   "metadata": {},
   "source": [
    "## Unit test"
   ]
  },
  {
   "cell_type": "code",
   "execution_count": null,
   "id": "f460e34f",
   "metadata": {},
   "outputs": [],
   "source": [
    "AutoAim_Heartbeat()"
   ]
  }
 ],
 "metadata": {
  "kernelspec": {
   "display_name": "Python 3.9.0 64-bit",
   "language": "python",
   "name": "python3"
  },
  "language_info": {
   "codemirror_mode": {
    "name": "ipython",
    "version": 3
   },
   "file_extension": ".py",
   "mimetype": "text/x-python",
   "name": "python",
   "nbconvert_exporter": "python",
   "pygments_lexer": "ipython3",
   "version": "3.9.0"
  },
  "vscode": {
   "interpreter": {
    "hash": "35be2c1b6ac9976a45ae99aba197dafc6f2e6958aebaedb8681b869a8bee737f"
   }
  }
 },
 "nbformat": 4,
 "nbformat_minor": 5
}
