{
 "cells": [
  {
   "cell_type": "code",
   "execution_count": 1,
   "id": "c24e22e5",
   "metadata": {},
   "outputs": [],
   "source": [
    "import time\n",
    "import serial\n",
    "ser = serial.Serial(port='/dev/serial0',baudrate=9600,parity=serial.PARITY_NONE,stopbits=serial.STOPBITS_ONE,bytesize=serial.EIGHTBITS,timeout=1)"
   ]
  },
  {
   "cell_type": "code",
   "execution_count": 44,
   "id": "41f13eb4",
   "metadata": {},
   "outputs": [],
   "source": [
    "ser.reset_input_buffer()\n",
    "ser.reset_output_buffer()"
   ]
  },
  {
   "cell_type": "code",
   "execution_count": 45,
   "id": "fbb76f7b",
   "metadata": {},
   "outputs": [
    {
     "name": "stdout",
     "output_type": "stream",
     "text": [
      "LinuxHint.com\n",
      "\u0000\n",
      "b'LinuxHint.com\\n\\x00'\n"
     ]
    }
   ],
   "source": [
    "cc = ser.read(ser.inWaiting())\n",
    "print(cc.decode())\n",
    "print(cc)"
   ]
  },
  {
   "cell_type": "code",
   "execution_count": 2,
   "id": "2279f60e",
   "metadata": {},
   "outputs": [],
   "source": [
    "for i in range(20):\n",
    "    ser.write(b'hello world')"
   ]
  },
  {
   "cell_type": "code",
   "execution_count": 4,
   "id": "cab1299c",
   "metadata": {},
   "outputs": [
    {
     "data": {
      "text/plain": [
       "11"
      ]
     },
     "execution_count": 4,
     "metadata": {},
     "output_type": "execute_result"
    }
   ],
   "source": [
    "ser.write(b'hello world')"
   ]
  },
  {
   "cell_type": "code",
   "execution_count": null,
   "id": "11ef08ba",
   "metadata": {},
   "outputs": [],
   "source": []
  }
 ],
 "metadata": {
  "kernelspec": {
   "display_name": "Python 3",
   "language": "python",
   "name": "python3"
  },
  "language_info": {
   "codemirror_mode": {
    "name": "ipython",
    "version": 3
   },
   "file_extension": ".py",
   "mimetype": "text/x-python",
   "name": "python",
   "nbconvert_exporter": "python",
   "pygments_lexer": "ipython3",
   "version": "3.5.3"
  }
 },
 "nbformat": 4,
 "nbformat_minor": 5
}
