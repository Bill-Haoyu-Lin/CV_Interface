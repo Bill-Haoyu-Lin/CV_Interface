{
 "cells": [
  {
   "cell_type": "markdown",
   "id": "fbb76f7b",
   "metadata": {},
   "source": [
    "# Setup"
   ]
  },
  {
   "cell_type": "code",
   "execution_count": null,
   "id": "cab1299c",
   "metadata": {},
   "outputs": [],
   "source": [
    "%run CvCmdApi.py\n",
    "\n",
    "CvCmder = CvCmdHandler()"
   ]
  },
  {
   "attachments": {},
   "cell_type": "markdown",
   "id": "463e7678",
   "metadata": {},
   "source": [
    "# Demo"
   ]
  },
  {
   "cell_type": "code",
   "execution_count": null,
   "id": "df2dc3ff",
   "metadata": {},
   "outputs": [],
   "source": [
    "startPrint = False\n",
    "while True:\n",
    "    flags = CvCmder.CvCmd_Heartbeat(300, 400, 30.12, 40.13)\n",
    "    if startPrint:\n",
    "        print(flags)\n",
    "        time.sleep(1)\n",
    "        # if True not in flags:\n",
    "        #     startPrint = False\n",
    "    elif True in flags:\n",
    "        startPrint = True\n"
   ]
  },
  {
   "cell_type": "code",
   "execution_count": null,
   "id": "ec4db425",
   "metadata": {},
   "outputs": [],
   "source": [
    "CvCmder.ser.close()"
   ]
  },
  {
   "cell_type": "code",
   "execution_count": null,
   "id": "5fded13b",
   "metadata": {},
   "outputs": [],
   "source": [
    "CvCmder.CvCmd_Reset()"
   ]
  },
  {
   "cell_type": "markdown",
   "id": "5f1a0bd9",
   "metadata": {},
   "source": [
    "## Unit test"
   ]
  },
  {
   "cell_type": "code",
   "execution_count": null,
   "id": "f460e34f",
   "metadata": {},
   "outputs": [],
   "source": [
    "#AutoAim_Heartbeat(10,10,1)\n",
    "from IPython.display import display, HTML\n",
    "display(HTML(\"<style>.container { width:100% !important; }</style>\"))"
   ]
  },
  {
   "cell_type": "code",
   "execution_count": null,
   "id": "bea0ecb2",
   "metadata": {},
   "outputs": [],
   "source": [
    "CvCmder.ser.write(CvCmder.txAckMsg)"
   ]
  },
  {
   "cell_type": "code",
   "execution_count": null,
   "id": "ce15bb6c",
   "metadata": {},
   "outputs": [],
   "source": [
    "(gimbal_coordinate_x, gimbal_coordinate_y, chassis_speed_x, chassis_speed_y) = (300, 400, 30.12, 40.13)\n",
    "CvCmder.txCvCmdMsg[CvCmder.DATA_PAYLOAD_INDEX:CvCmder.DATA_PAYLOAD_INDEX+12] = b''.join([gimbal_coordinate_x.to_bytes(2, 'little'), gimbal_coordinate_y.to_bytes(2, 'little'), struct.pack('<f', chassis_speed_x), struct.pack('<f', chassis_speed_y)])\n",
    "CvCmder.ser.write(CvCmder.txCvCmdMsg)"
   ]
  },
  {
   "cell_type": "code",
   "execution_count": null,
   "id": "e1f1c30d",
   "metadata": {},
   "outputs": [],
   "source": [
    "# incomplete/invalid msg\n",
    "CvCmder.ser.write(CvCmder.txAckMsg[:10])\n",
    "CvCmder.ser.write(CvCmder.txAckMsg[5:])"
   ]
  }
 ],
 "metadata": {
  "kernelspec": {
   "display_name": "Python 3",
   "language": "python",
   "name": "python3"
  },
  "language_info": {
   "codemirror_mode": {
    "name": "ipython",
    "version": 3
   },
   "file_extension": ".py",
   "mimetype": "text/x-python",
   "name": "python",
   "nbconvert_exporter": "python",
   "pygments_lexer": "ipython3",
   "version": "3.6.9"
  },
  "vscode": {
   "interpreter": {
    "hash": "35be2c1b6ac9976a45ae99aba197dafc6f2e6958aebaedb8681b869a8bee737f"
   }
  }
 },
 "nbformat": 4,
 "nbformat_minor": 5
}
